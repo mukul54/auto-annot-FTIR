{
 "cells": [
  {
   "cell_type": "code",
   "execution_count": 4,
   "metadata": {},
   "outputs": [
    {
     "data": {
      "text/plain": [
       "'\\nans =\\n\\n     2\\n\\n'"
      ]
     },
     "execution_count": 4,
     "metadata": {},
     "output_type": "execute_result"
    }
   ],
   "source": [
    "import win32com.client\n",
    "h = win32com.client.Dispatch('matlab.application')\n",
    "h.Execute (\"plot([0 18], [7 23])\")\n",
    "h.Execute (\"1+1\")"
   ]
  },
  {
   "cell_type": "code",
   "execution_count": 6,
   "metadata": {},
   "outputs": [],
   "source": [
    "ir_folder = 'E:\\transfer_roi\\ir\\original_ir'\n",
    "he_folder = 'E:\\transfer_roi\\he\\he_original'"
   ]
  },
  {
   "cell_type": "code",
   "execution_count": 8,
   "metadata": {},
   "outputs": [],
   "source": [
    "out_folder = r'E:\\transfer_roi\\result\\registered\\unmarked'\n",
    "resized_ir_folder = r'E:\\transfer_roi\\ir\\unmarked_resized'"
   ]
  },
  {
   "cell_type": "code",
   "execution_count": 11,
   "metadata": {},
   "outputs": [],
   "source": [
    "import win32com.client\n",
    "h = win32com.client.Dispatch('matlab.application')"
   ]
  },
  {
   "cell_type": "code",
   "execution_count": 12,
   "metadata": {},
   "outputs": [],
   "source": [
    "tform_all = h.Execute(\"regis(he_folder, ir_folder, out_folder, resized_ir_folder)\")"
   ]
  },
  {
   "cell_type": "code",
   "execution_count": null,
   "metadata": {},
   "outputs": [],
   "source": []
  }
 ],
 "metadata": {
  "kernelspec": {
   "display_name": "Python 3",
   "language": "python",
   "name": "python3"
  },
  "language_info": {
   "codemirror_mode": {
    "name": "ipython",
    "version": 3
   },
   "file_extension": ".py",
   "mimetype": "text/x-python",
   "name": "python",
   "nbconvert_exporter": "python",
   "pygments_lexer": "ipython3",
   "version": "3.5.5"
  }
 },
 "nbformat": 4,
 "nbformat_minor": 2
}
